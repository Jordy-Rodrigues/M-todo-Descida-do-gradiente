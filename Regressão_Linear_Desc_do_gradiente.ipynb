{
  "nbformat": 4,
  "nbformat_minor": 0,
  "metadata": {
    "colab": {
      "name": "Regressão Linear - Desc do gradiente",
      "provenance": [],
      "collapsed_sections": [],
      "mount_file_id": "1EPREybcQp4YppDSIn4GBjewgG6vu9jE8",
      "authorship_tag": "ABX9TyOCoR617cAW4TYUad+hcgz3",
      "include_colab_link": true
    },
    "kernelspec": {
      "name": "python3",
      "display_name": "Python 3"
    },
    "language_info": {
      "name": "python"
    }
  },
  "cells": [
    {
      "cell_type": "markdown",
      "metadata": {
        "id": "view-in-github",
        "colab_type": "text"
      },
      "source": [
        "<a href=\"https://colab.research.google.com/github/Jordy-Rodrigues/M-todo-Descida-do-gradiente/blob/main/Regress%C3%A3o_Linear_Desc_do_gradiente.ipynb\" target=\"_parent\"><img src=\"https://colab.research.google.com/assets/colab-badge.svg\" alt=\"Open In Colab\"/></a>"
      ]
    },
    {
      "cell_type": "markdown",
      "source": [
        "MÉTODO DA  DESCIDA DO GRADIENTE"
      ],
      "metadata": {
        "id": "xvu33aR95mm3"
      }
    },
    {
      "cell_type": "code",
      "execution_count": 85,
      "metadata": {
        "id": "o758ATD65VpO"
      },
      "outputs": [],
      "source": [
        "# BIBLIOTECAS BÁSICAS\n",
        "import pandas as pd\n",
        "import numpy as np"
      ]
    },
    {
      "cell_type": "code",
      "source": [
        "# BIBLIOTECA PARA GERAR GRÁFICOS\n",
        "import matplotlib.pyplot as plt"
      ],
      "metadata": {
        "id": "i4iZ7IvTPIuj"
      },
      "execution_count": 86,
      "outputs": []
    },
    {
      "cell_type": "code",
      "source": [
        "# BIBLIOTECAS DE MACHINE LEARNING\n",
        "from sklearn.preprocessing import StandardScaler\n",
        "from sklearn.model_selection import train_test_split\n",
        "from sklearn.linear_model import SGDRegressor"
      ],
      "metadata": {
        "id": "SuMMX8iUPUGQ"
      },
      "execution_count": 87,
      "outputs": []
    },
    {
      "cell_type": "code",
      "source": [
        "# CARREGAR O DATASET\n",
        "Data = pd.read_csv('/content/drive/MyDrive/auto-mpg.csv')\n",
        "Data.head()"
      ],
      "metadata": {
        "colab": {
          "base_uri": "https://localhost:8080/",
          "height": 206
        },
        "id": "q04qXjJvP__c",
        "outputId": "3dcaaf5f-f102-40ad-95bb-65a08348ab21"
      },
      "execution_count": 88,
      "outputs": [
        {
          "output_type": "execute_result",
          "data": {
            "text/plain": [
              "    mpg  cylinders  displacement horsepower  weight  acceleration  model year  \\\n",
              "0  18.0          8         307.0        130    3504          12.0          70   \n",
              "1  15.0          8         350.0        165    3693          11.5          70   \n",
              "2  18.0          8         318.0        150    3436          11.0          70   \n",
              "3  16.0          8         304.0        150    3433          12.0          70   \n",
              "4  17.0          8         302.0        140    3449          10.5          70   \n",
              "\n",
              "   origin                   car name  \n",
              "0       1  chevrolet chevelle malibu  \n",
              "1       1          buick skylark 320  \n",
              "2       1         plymouth satellite  \n",
              "3       1              amc rebel sst  \n",
              "4       1                ford torino  "
            ],
            "text/html": [
              "\n",
              "  <div id=\"df-186a5ac1-4429-4e5d-bc7a-5f7fd8d9cd26\">\n",
              "    <div class=\"colab-df-container\">\n",
              "      <div>\n",
              "<style scoped>\n",
              "    .dataframe tbody tr th:only-of-type {\n",
              "        vertical-align: middle;\n",
              "    }\n",
              "\n",
              "    .dataframe tbody tr th {\n",
              "        vertical-align: top;\n",
              "    }\n",
              "\n",
              "    .dataframe thead th {\n",
              "        text-align: right;\n",
              "    }\n",
              "</style>\n",
              "<table border=\"1\" class=\"dataframe\">\n",
              "  <thead>\n",
              "    <tr style=\"text-align: right;\">\n",
              "      <th></th>\n",
              "      <th>mpg</th>\n",
              "      <th>cylinders</th>\n",
              "      <th>displacement</th>\n",
              "      <th>horsepower</th>\n",
              "      <th>weight</th>\n",
              "      <th>acceleration</th>\n",
              "      <th>model year</th>\n",
              "      <th>origin</th>\n",
              "      <th>car name</th>\n",
              "    </tr>\n",
              "  </thead>\n",
              "  <tbody>\n",
              "    <tr>\n",
              "      <th>0</th>\n",
              "      <td>18.0</td>\n",
              "      <td>8</td>\n",
              "      <td>307.0</td>\n",
              "      <td>130</td>\n",
              "      <td>3504</td>\n",
              "      <td>12.0</td>\n",
              "      <td>70</td>\n",
              "      <td>1</td>\n",
              "      <td>chevrolet chevelle malibu</td>\n",
              "    </tr>\n",
              "    <tr>\n",
              "      <th>1</th>\n",
              "      <td>15.0</td>\n",
              "      <td>8</td>\n",
              "      <td>350.0</td>\n",
              "      <td>165</td>\n",
              "      <td>3693</td>\n",
              "      <td>11.5</td>\n",
              "      <td>70</td>\n",
              "      <td>1</td>\n",
              "      <td>buick skylark 320</td>\n",
              "    </tr>\n",
              "    <tr>\n",
              "      <th>2</th>\n",
              "      <td>18.0</td>\n",
              "      <td>8</td>\n",
              "      <td>318.0</td>\n",
              "      <td>150</td>\n",
              "      <td>3436</td>\n",
              "      <td>11.0</td>\n",
              "      <td>70</td>\n",
              "      <td>1</td>\n",
              "      <td>plymouth satellite</td>\n",
              "    </tr>\n",
              "    <tr>\n",
              "      <th>3</th>\n",
              "      <td>16.0</td>\n",
              "      <td>8</td>\n",
              "      <td>304.0</td>\n",
              "      <td>150</td>\n",
              "      <td>3433</td>\n",
              "      <td>12.0</td>\n",
              "      <td>70</td>\n",
              "      <td>1</td>\n",
              "      <td>amc rebel sst</td>\n",
              "    </tr>\n",
              "    <tr>\n",
              "      <th>4</th>\n",
              "      <td>17.0</td>\n",
              "      <td>8</td>\n",
              "      <td>302.0</td>\n",
              "      <td>140</td>\n",
              "      <td>3449</td>\n",
              "      <td>10.5</td>\n",
              "      <td>70</td>\n",
              "      <td>1</td>\n",
              "      <td>ford torino</td>\n",
              "    </tr>\n",
              "  </tbody>\n",
              "</table>\n",
              "</div>\n",
              "      <button class=\"colab-df-convert\" onclick=\"convertToInteractive('df-186a5ac1-4429-4e5d-bc7a-5f7fd8d9cd26')\"\n",
              "              title=\"Convert this dataframe to an interactive table.\"\n",
              "              style=\"display:none;\">\n",
              "        \n",
              "  <svg xmlns=\"http://www.w3.org/2000/svg\" height=\"24px\"viewBox=\"0 0 24 24\"\n",
              "       width=\"24px\">\n",
              "    <path d=\"M0 0h24v24H0V0z\" fill=\"none\"/>\n",
              "    <path d=\"M18.56 5.44l.94 2.06.94-2.06 2.06-.94-2.06-.94-.94-2.06-.94 2.06-2.06.94zm-11 1L8.5 8.5l.94-2.06 2.06-.94-2.06-.94L8.5 2.5l-.94 2.06-2.06.94zm10 10l.94 2.06.94-2.06 2.06-.94-2.06-.94-.94-2.06-.94 2.06-2.06.94z\"/><path d=\"M17.41 7.96l-1.37-1.37c-.4-.4-.92-.59-1.43-.59-.52 0-1.04.2-1.43.59L10.3 9.45l-7.72 7.72c-.78.78-.78 2.05 0 2.83L4 21.41c.39.39.9.59 1.41.59.51 0 1.02-.2 1.41-.59l7.78-7.78 2.81-2.81c.8-.78.8-2.07 0-2.86zM5.41 20L4 18.59l7.72-7.72 1.47 1.35L5.41 20z\"/>\n",
              "  </svg>\n",
              "      </button>\n",
              "      \n",
              "  <style>\n",
              "    .colab-df-container {\n",
              "      display:flex;\n",
              "      flex-wrap:wrap;\n",
              "      gap: 12px;\n",
              "    }\n",
              "\n",
              "    .colab-df-convert {\n",
              "      background-color: #E8F0FE;\n",
              "      border: none;\n",
              "      border-radius: 50%;\n",
              "      cursor: pointer;\n",
              "      display: none;\n",
              "      fill: #1967D2;\n",
              "      height: 32px;\n",
              "      padding: 0 0 0 0;\n",
              "      width: 32px;\n",
              "    }\n",
              "\n",
              "    .colab-df-convert:hover {\n",
              "      background-color: #E2EBFA;\n",
              "      box-shadow: 0px 1px 2px rgba(60, 64, 67, 0.3), 0px 1px 3px 1px rgba(60, 64, 67, 0.15);\n",
              "      fill: #174EA6;\n",
              "    }\n",
              "\n",
              "    [theme=dark] .colab-df-convert {\n",
              "      background-color: #3B4455;\n",
              "      fill: #D2E3FC;\n",
              "    }\n",
              "\n",
              "    [theme=dark] .colab-df-convert:hover {\n",
              "      background-color: #434B5C;\n",
              "      box-shadow: 0px 1px 3px 1px rgba(0, 0, 0, 0.15);\n",
              "      filter: drop-shadow(0px 1px 2px rgba(0, 0, 0, 0.3));\n",
              "      fill: #FFFFFF;\n",
              "    }\n",
              "  </style>\n",
              "\n",
              "      <script>\n",
              "        const buttonEl =\n",
              "          document.querySelector('#df-186a5ac1-4429-4e5d-bc7a-5f7fd8d9cd26 button.colab-df-convert');\n",
              "        buttonEl.style.display =\n",
              "          google.colab.kernel.accessAllowed ? 'block' : 'none';\n",
              "\n",
              "        async function convertToInteractive(key) {\n",
              "          const element = document.querySelector('#df-186a5ac1-4429-4e5d-bc7a-5f7fd8d9cd26');\n",
              "          const dataTable =\n",
              "            await google.colab.kernel.invokeFunction('convertToInteractive',\n",
              "                                                     [key], {});\n",
              "          if (!dataTable) return;\n",
              "\n",
              "          const docLinkHtml = 'Like what you see? Visit the ' +\n",
              "            '<a target=\"_blank\" href=https://colab.research.google.com/notebooks/data_table.ipynb>data table notebook</a>'\n",
              "            + ' to learn more about interactive tables.';\n",
              "          element.innerHTML = '';\n",
              "          dataTable['output_type'] = 'display_data';\n",
              "          await google.colab.output.renderOutput(dataTable, element);\n",
              "          const docLink = document.createElement('div');\n",
              "          docLink.innerHTML = docLinkHtml;\n",
              "          element.appendChild(docLink);\n",
              "        }\n",
              "      </script>\n",
              "    </div>\n",
              "  </div>\n",
              "  "
            ]
          },
          "metadata": {},
          "execution_count": 88
        }
      ]
    },
    {
      "cell_type": "code",
      "source": [
        "# VISUALIZAR O DATASET EM GRÁFICO DE DISPERÇÃO\n",
        "plt.scatter(Data[['weight']], Data[['mpg']])\n",
        "plt.xlabel('Peso(libras)')\n",
        "plt.ylabel('Autonomia(mpg)')\n",
        "plt.title('Relação entre peso e autonomia dos veículos')"
      ],
      "metadata": {
        "colab": {
          "base_uri": "https://localhost:8080/",
          "height": 312
        },
        "id": "2vhGtJmEQe18",
        "outputId": "58c9e810-e015-4d33-a0c2-a43e8ff0eb4d"
      },
      "execution_count": 89,
      "outputs": [
        {
          "output_type": "execute_result",
          "data": {
            "text/plain": [
              "Text(0.5, 1.0, 'Relação entre peso e autonomia dos veículos')"
            ]
          },
          "metadata": {},
          "execution_count": 89
        },
        {
          "output_type": "display_data",
          "data": {
            "text/plain": [
              "<Figure size 432x288 with 1 Axes>"
            ],
            "image/png": "[encoded data removed]"
          },
          "metadata": {
            "needs_background": "light"
          }
        }
      ]
    },
    {
      "cell_type": "code",
      "source": [
        "# DECLARAR MEU X DEPENDETE E MEU Y INDEPENDENTE\n",
        "x = Data [['weight']]\n",
        "y = Data [['mpg']]"
      ],
      "metadata": {
        "id": "4ch0pF3jRegw"
      },
      "execution_count": 90,
      "outputs": []
    },
    {
      "cell_type": "code",
      "source": [
        "# MUDAR A MÉDIDA UTILIZADA NO DATASET DE LIBRA PARA KG\n",
        "x = x * 0.453592 # MULTIPLICAR A VARIÁVEL X PELO VALOR DA MÉDIDA DE CONVERSÃO LIBRA PARA KG\n",
        "y = y * 0.453592 # MULTIPLICAR A VARIÁVEL Y PELO VALOR DA MÉDIDA DE CONVERSÃO LIBRA PARA KG"
      ],
      "metadata": {
        "id": "_8lFTtK1UCmy"
      },
      "execution_count": 91,
      "outputs": []
    },
    {
      "cell_type": "code",
      "source": [
        "# PADRONIZAR AS FEATURES\n",
        "escala = StandardScaler()\n",
        "escala.fit(x)\n",
        "norm = escala.transform(x)"
      ],
      "metadata": {
        "id": "kDrLUFQZUj-T"
      },
      "execution_count": 92,
      "outputs": []
    },
    {
      "cell_type": "code",
      "source": [
        "# SEPARAR MINHA BASE DE DADOS EM TREINO E TESTE\n",
        "x_treino, x_teste, y_treino, y_teste = train_test_split(norm, y, test_size=0.3)"
      ],
      "metadata": {
        "id": "DCE2sNyTVCVA"
      },
      "execution_count": 93,
      "outputs": []
    },
    {
      "cell_type": "code",
      "source": [
        "# USAR REGRESSÃO LINEAR DESCIDA DO GRADIENTE E ALGUNS PARÂMETROS\n",
        "regressão = SGDRegressor(max_iter=500, eta0=0.01, tol=0.0001, verbose=1)"
      ],
      "metadata": {
        "id": "7k0wcdReWTjc"
      },
      "execution_count": 94,
      "outputs": []
    },
    {
      "cell_type": "code",
      "source": [
        "#TREINAR O MODELO\n",
        "regressão.fit(x_treino, y_treino)"
      ],
      "metadata": {
        "colab": {
          "base_uri": "https://localhost:8080/"
        },
        "id": "dT0O0mPfXYql",
        "outputId": "441c2969-7c88-456e-cfb0-697a54f2f232"
      },
      "execution_count": 95,
      "outputs": [
        {
          "output_type": "stream",
          "name": "stdout",
          "text": [
            "-- Epoch 1\n",
            "Norm: 2.01, NNZs: 1, Bias: 6.444513, T: 278, Avg. loss: 27.090347\n",
            "Total training time: 0.00 seconds.\n",
            "-- Epoch 2\n",
            "Norm: 2.54, NNZs: 1, Bias: 8.440901, T: 556, Avg. loss: 7.450060\n",
            "Total training time: 0.00 seconds.\n",
            "-- Epoch 3\n",
            "Norm: 2.75, NNZs: 1, Bias: 9.392364, T: 834, Avg. loss: 3.657798\n",
            "Total training time: 0.01 seconds.\n",
            "-- Epoch 4\n",
            "Norm: 2.86, NNZs: 1, Bias: 9.920278, T: 1112, Avg. loss: 2.586404\n",
            "Total training time: 0.01 seconds.\n",
            "-- Epoch 5\n",
            "Norm: 2.91, NNZs: 1, Bias: 10.213448, T: 1390, Avg. loss: 2.240317\n",
            "Total training time: 0.01 seconds.\n",
            "-- Epoch 6\n",
            "Norm: 2.92, NNZs: 1, Bias: 10.382923, T: 1668, Avg. loss: 2.120178\n",
            "Total training time: 0.01 seconds.\n",
            "-- Epoch 7\n",
            "Norm: 2.93, NNZs: 1, Bias: 10.494261, T: 1946, Avg. loss: 2.074134\n",
            "Total training time: 0.01 seconds.\n",
            "-- Epoch 8\n",
            "Norm: 2.93, NNZs: 1, Bias: 10.556711, T: 2224, Avg. loss: 2.055402\n",
            "Total training time: 0.01 seconds.\n",
            "-- Epoch 9\n",
            "Norm: 2.93, NNZs: 1, Bias: 10.603326, T: 2502, Avg. loss: 2.047567\n",
            "Total training time: 0.01 seconds.\n",
            "-- Epoch 10\n",
            "Norm: 2.94, NNZs: 1, Bias: 10.627962, T: 2780, Avg. loss: 2.044063\n",
            "Total training time: 0.01 seconds.\n",
            "-- Epoch 11\n",
            "Norm: 2.94, NNZs: 1, Bias: 10.647018, T: 3058, Avg. loss: 2.042399\n",
            "Total training time: 0.01 seconds.\n",
            "-- Epoch 12\n",
            "Norm: 2.93, NNZs: 1, Bias: 10.657849, T: 3336, Avg. loss: 2.041122\n",
            "Total training time: 0.01 seconds.\n",
            "-- Epoch 13\n",
            "Norm: 2.93, NNZs: 1, Bias: 10.670671, T: 3614, Avg. loss: 2.040964\n",
            "Total training time: 0.03 seconds.\n",
            "-- Epoch 14\n",
            "Norm: 2.94, NNZs: 1, Bias: 10.678025, T: 3892, Avg. loss: 2.040823\n",
            "Total training time: 0.03 seconds.\n",
            "-- Epoch 15\n",
            "Norm: 2.94, NNZs: 1, Bias: 10.685314, T: 4170, Avg. loss: 2.040545\n",
            "Total training time: 0.03 seconds.\n",
            "-- Epoch 16\n",
            "Norm: 2.94, NNZs: 1, Bias: 10.691314, T: 4448, Avg. loss: 2.040410\n",
            "Total training time: 0.03 seconds.\n",
            "-- Epoch 17\n",
            "Norm: 2.94, NNZs: 1, Bias: 10.692587, T: 4726, Avg. loss: 2.040392\n",
            "Total training time: 0.03 seconds.\n",
            "-- Epoch 18\n",
            "Norm: 2.93, NNZs: 1, Bias: 10.691698, T: 5004, Avg. loss: 2.040142\n",
            "Total training time: 0.03 seconds.\n",
            "-- Epoch 19\n",
            "Norm: 2.94, NNZs: 1, Bias: 10.693961, T: 5282, Avg. loss: 2.040194\n",
            "Total training time: 0.03 seconds.\n",
            "-- Epoch 20\n",
            "Norm: 2.94, NNZs: 1, Bias: 10.694249, T: 5560, Avg. loss: 2.040171\n",
            "Total training time: 0.03 seconds.\n",
            "-- Epoch 21\n",
            "Norm: 2.94, NNZs: 1, Bias: 10.693203, T: 5838, Avg. loss: 2.040155\n",
            "Total training time: 0.03 seconds.\n",
            "-- Epoch 22\n",
            "Norm: 2.94, NNZs: 1, Bias: 10.696910, T: 6116, Avg. loss: 2.040040\n",
            "Total training time: 0.03 seconds.\n",
            "-- Epoch 23\n",
            "Norm: 2.94, NNZs: 1, Bias: 10.693384, T: 6394, Avg. loss: 2.039944\n",
            "Total training time: 0.03 seconds.\n",
            "-- Epoch 24\n",
            "Norm: 2.94, NNZs: 1, Bias: 10.693861, T: 6672, Avg. loss: 2.039870\n",
            "Total training time: 0.03 seconds.\n",
            "-- Epoch 25\n",
            "Norm: 2.94, NNZs: 1, Bias: 10.692740, T: 6950, Avg. loss: 2.039966\n",
            "Total training time: 0.03 seconds.\n",
            "-- Epoch 26\n",
            "Norm: 2.94, NNZs: 1, Bias: 10.690447, T: 7228, Avg. loss: 2.039718\n",
            "Total training time: 0.03 seconds.\n",
            "-- Epoch 27\n",
            "Norm: 2.94, NNZs: 1, Bias: 10.688172, T: 7506, Avg. loss: 2.039776\n",
            "Total training time: 0.03 seconds.\n",
            "-- Epoch 28\n",
            "Norm: 2.94, NNZs: 1, Bias: 10.690600, T: 7784, Avg. loss: 2.039780\n",
            "Total training time: 0.03 seconds.\n",
            "-- Epoch 29\n",
            "Norm: 2.94, NNZs: 1, Bias: 10.690808, T: 8062, Avg. loss: 2.039820\n",
            "Total training time: 0.03 seconds.\n",
            "-- Epoch 30\n",
            "Norm: 2.94, NNZs: 1, Bias: 10.689511, T: 8340, Avg. loss: 2.039712\n",
            "Total training time: 0.03 seconds.\n",
            "-- Epoch 31\n",
            "Norm: 2.94, NNZs: 1, Bias: 10.689542, T: 8618, Avg. loss: 2.039716\n",
            "Total training time: 0.03 seconds.\n",
            "Convergence after 31 epochs took 0.03 seconds\n"
          ]
        },
        {
          "output_type": "stream",
          "name": "stderr",
          "text": [
            "/usr/local/lib/python3.7/dist-packages/sklearn/utils/validation.py:993: DataConversionWarning: A column-vector y was passed when a 1d array was expected. Please change the shape of y to (n_samples, ), for example using ravel().\n",
            "  y = column_or_1d(y, warn=True)\n"
          ]
        },
        {
          "output_type": "execute_result",
          "data": {
            "text/plain": [
              "SGDRegressor(max_iter=500, tol=0.0001, verbose=1)"
            ]
          },
          "metadata": {},
          "execution_count": 95
        }
      ]
    },
    {
      "cell_type": "markdown",
      "source": [
        "PÓS-PROCESSAMENTO"
      ],
      "metadata": {
        "id": "akm1kzCDYNTI"
      }
    },
    {
      "cell_type": "code",
      "source": [
        "# TESTAR O MODELO COM DADOS QUE ELE NÃO VIU\n",
        "y_prev = regressão.predict(x_teste)"
      ],
      "metadata": {
        "id": "ksmCkUKpX3nh"
      },
      "execution_count": 99,
      "outputs": []
    },
    {
      "cell_type": "code",
      "source": [
        "# GERAR GRÁFICO\n",
        "plt.scatter(x_teste, y_teste, label=\"Real\")\n",
        "plt.scatter(x_teste, y_prev, label=\"Previsto\")"
      ],
      "metadata": {
        "colab": {
          "base_uri": "https://localhost:8080/",
          "height": 282
        },
        "id": "5GfHSQUaY_ze",
        "outputId": "6eabae04-6665-4d91-8ac7-e04493b5a6b1"
      },
      "execution_count": 100,
      "outputs": [
        {
          "output_type": "execute_result",
          "data": {
            "text/plain": [
              "<matplotlib.collections.PathCollection at 0x7f8895b0d850>"
            ]
          },
          "metadata": {},
          "execution_count": 100
        },
        {
          "output_type": "display_data",
          "data": {
            "text/plain": [
              "<Figure size 432x288 with 1 Axes>"
            ],
            "image/png": "[encoded data removed]"
          },
          "metadata": {
            "needs_background": "light"
          }
        }
      ]
    },
    {
      "cell_type": "code",
      "source": [
        "# DEIXAR O GRÁFICO MAIS VISUAL\n",
        "x_test = escala.inverse_transform(x_teste)\n",
        "plt.scatter(x_test, y_teste, label=\"Real\")\n",
        "plt.scatter(x_test, y_prev, label=\"Previsão\")\n",
        "plt.xlabel(\"Peso(kg)\")\n",
        "plt.ylabel(\"Autonomia(kg/l\")\n",
        "plt.title(\"Regressão Linear Prevista\")\n",
        "plt.legend(loc=1)"
      ],
      "metadata": {
        "colab": {
          "base_uri": "https://localhost:8080/",
          "height": 312
        },
        "id": "XY5WYYAacfdj",
        "outputId": "7d361e05-487f-43be-b126-8c949a6d0dd2"
      },
      "execution_count": 104,
      "outputs": [
        {
          "output_type": "execute_result",
          "data": {
            "text/plain": [
              "<matplotlib.legend.Legend at 0x7f8895a0cc50>"
            ]
          },
          "metadata": {},
          "execution_count": 104
        },
        {
          "output_type": "display_data",
          "data": {
            "text/plain": [
              "<Figure size 432x288 with 1 Axes>"
            ],
            "image/png": "[encoded data removed]"
          },
          "metadata": {
            "needs_background": "light"
          }
        }
      ]
    }
  ]
}